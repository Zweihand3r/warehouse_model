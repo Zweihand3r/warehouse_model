{
  "nbformat": 4,
  "nbformat_minor": 0,
  "metadata": {
    "colab": {
      "name": "vhi_stripped.ipynb",
      "provenance": [],
      "collapsed_sections": []
    },
    "kernelspec": {
      "name": "python3",
      "display_name": "Python 3",
      "language": "python"
    },
    "accelerator": "GPU"
  },
  "cells": [
    {
      "source": [
        "# Warehouse ML\n",
        "\n",
        "1. Click __Upload__ to upload an image (*For best results use image with size greater than or equal to 1024x1024*)\n",
        "2. Depending on the image size and internet speed the upload process could take quite some time\n",
        "3. Once the uploaded image is displayed click __Detect__\n",
        "4. The detection process takes anywhere from 10 seconds to 1 minute\n",
        "\n",
        "For the purposes of training the dent and scratch categories were divided into sub categories for better detection. For actual use cases the sub categories can be to refer to its super category.\n",
        "\n",
        "*Dents*:<br>\n",
        "__dent__: Regular dent<br>\n",
        "__dent_pt__: A point dent<br>\n",
        "__dent_lg__: A long dent<br>\n",
        "__dent_gr__: A group of dent<br>\n",
        "\n",
        "*Scratches*:<br>\n",
        "__scratch__: Light colored scratches<br>\n",
        "__scratch_bl__: Dark colored scratches<br>\n",
        "<hr>"
      ],
      "cell_type": "markdown",
      "metadata": {}
    },
    {
      "cell_type": "code",
      "metadata": {
        "id": "_1rKuiEtV8yH"
      },
      "source": [
        "from pathlib import Path\n",
        "import ipywidgets as widgets\n",
        "from IPython.display import Image, display\n",
        "\n",
        "WEIGHTS_PATH = \"best_10k.pt\"\n",
        "\n",
        "def detect(_):\n",
        "  with open(\"input_image.png\", \"wb\") as png:\n",
        "    png.write(upload_btn.data[-1])\n",
        "  !python detect.py --weights $WEIGHTS_PATH --img 1024 --conf 0.4 --source input_image.png\n",
        "  exps = len([x for x in Path(\"runs/detect/\").iterdir()])\n",
        "  exps_str = f\"{exps}\" if exps > 1 else \"\"\n",
        "  path_str = f\"runs/detect/exp{exps_str}/input_image.png\"\n",
        "  print(\"\\nDisplaying detected image. Please wait...\")\n",
        "  with output_out: \n",
        "    output_out.clear_output()\n",
        "    display(Image(filename=path_str))\n",
        "  output_lbl.value = \"Detection completed. Please check the image\"\n",
        "\n",
        "def uploaded(_):\n",
        "  with input_out: \n",
        "    input_out.clear_output()\n",
        "    display(Image(data=upload_btn.data[-1], width=150))\n",
        "  output_lbl.value = \"Click \\\"Detect\\\" to detect damages, dents or scratches\"\n",
        "  detect_btn.layout.visibility = \"visible\"\n",
        "\n",
        "input_img = None\n",
        "\n",
        "input_out = widgets.Output()\n",
        "output_out = widgets.Output()\n",
        "\n",
        "upload_btn = widgets.FileUpload()\n",
        "upload_btn.observe(uploaded, names=\"_counter\")\n",
        "\n",
        "detect_btn = widgets.Button(description=\"Detect\")\n",
        "detect_btn.layout.visibility = \"hidden\"\n",
        "detect_btn.on_click(detect)\n",
        "\n",
        "output_lbl = widgets.Label(\"Upload an image to get started\")\n",
        "\n",
        "widgets.VBox([\n",
        "  widgets.Label(\"Please note that it takes a while for an image to show after after upload\"),\n",
        "  output_lbl,\n",
        "  upload_btn,\n",
        "  input_out, \n",
        "  detect_btn,\n",
        "  output_out\n",
        "])"
      ],
      "execution_count": null,
      "outputs": []
    }
  ]
}